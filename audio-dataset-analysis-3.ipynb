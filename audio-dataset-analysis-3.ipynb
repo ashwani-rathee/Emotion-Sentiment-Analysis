{
 "cells": [
  {
   "cell_type": "code",
   "execution_count": 1,
   "metadata": {
    "_cell_guid": "79c7e3d0-c299-4dcb-8224-4455121ee9b0",
    "_uuid": "d629ff2d2480ee46fbb7e2d37f6b5fab8052498a",
    "execution": {
     "iopub.execute_input": "2020-09-05T03:33:15.907486Z",
     "iopub.status.busy": "2020-09-05T03:33:15.906679Z",
     "iopub.status.idle": "2020-09-05T03:33:18.320205Z",
     "shell.execute_reply": "2020-09-05T03:33:18.319501Z"
    },
    "papermill": {
     "duration": 2.431521,
     "end_time": "2020-09-05T03:33:18.320356",
     "exception": false,
     "start_time": "2020-09-05T03:33:15.888835",
     "status": "completed"
    },
    "tags": []
   },
   "outputs": [],
   "source": [
    "#imports\n",
    "import librosa\n",
    "import librosa.display\n",
    "import librosa.feature\n",
    "import numpy \n",
    "import matplotlib.pyplot as plt\n",
    "from matplotlib.pyplot import specgram\n",
    "import pandas as pd\n",
    "import os\n",
    "import IPython.display as ipd  # To play sound in the notebook"
   ]
  },
  {
   "cell_type": "markdown",
   "execution_count": null,
   "metadata": {
    "papermill": {
     "duration": 0.009083,
     "end_time": "2020-09-05T03:33:18.339158",
     "exception": false,
     "start_time": "2020-09-05T03:33:18.330075",
     "status": "completed"
    },
    "tags": []
   },
   "source": [
    "We Find the following things and then maybe use them in future to predict emotions I believe..\n",
    "- Root Mean Square Energy\n",
    "- Zero Crossing Rate,Spectrogram,Mel Spectrogram\n",
    "- Spectral Centroid\n",
    "- Spectral Bandwidth\n",
    "- Spectral Contrast\n",
    "- Spectral Rolloff\n",
    "- chroma vector\n",
    "- Constant-Q Transform\n",
    "- MFCC"
   ]
  },
  {
   "cell_type": "code",
   "execution_count": 2,
   "metadata": {
    "execution": {
     "iopub.execute_input": "2020-09-05T03:33:18.363271Z",
     "iopub.status.busy": "2020-09-05T03:33:18.362365Z",
     "iopub.status.idle": "2020-09-05T03:33:18.365785Z",
     "shell.execute_reply": "2020-09-05T03:33:18.365007Z"
    },
    "papermill": {
     "duration": 0.017594,
     "end_time": "2020-09-05T03:33:18.365923",
     "exception": false,
     "start_time": "2020-09-05T03:33:18.348329",
     "status": "completed"
    },
    "tags": []
   },
   "outputs": [],
   "source": [
    "#We focus on Only 1 audio as of Now and that is ../input/toronto-emotional-speech-set-tess/TESS Toronto emotional speech set data/OAF_Fear/OAF_back_fear.wav"
   ]
  },
  {
   "cell_type": "code",
   "execution_count": 3,
   "metadata": {
    "execution": {
     "iopub.execute_input": "2020-09-05T03:33:18.390492Z",
     "iopub.status.busy": "2020-09-05T03:33:18.389608Z",
     "iopub.status.idle": "2020-09-05T03:33:19.331733Z",
     "shell.execute_reply": "2020-09-05T03:33:19.330926Z"
    },
    "papermill": {
     "duration": 0.956419,
     "end_time": "2020-09-05T03:33:19.331863",
     "exception": false,
     "start_time": "2020-09-05T03:33:18.375444",
     "status": "completed"
    },
    "tags": []
   },
   "outputs": [],
   "source": [
    "x, sr = librosa.load('../input/toronto-emotional-speech-set-tess/TESS Toronto emotional speech set data/OAF_Fear/OAF_back_fear.wav')"
   ]
  },
  {
   "cell_type": "code",
   "execution_count": 4,
   "metadata": {
    "execution": {
     "iopub.execute_input": "2020-09-05T03:33:19.358781Z",
     "iopub.status.busy": "2020-09-05T03:33:19.357883Z",
     "iopub.status.idle": "2020-09-05T03:33:19.362147Z",
     "shell.execute_reply": "2020-09-05T03:33:19.362765Z"
    },
    "papermill": {
     "duration": 0.02123,
     "end_time": "2020-09-05T03:33:19.362925",
     "exception": false,
     "start_time": "2020-09-05T03:33:19.341695",
     "status": "completed"
    },
    "tags": []
   },
   "outputs": [
    {
     "data": {
      "text/plain": [
       "(38084,)"
      ]
     },
     "execution_count": 4,
     "metadata": {},
     "output_type": "execute_result"
    }
   ],
   "source": [
    "x.shape#array length"
   ]
  },
  {
   "cell_type": "code",
   "execution_count": 5,
   "metadata": {
    "execution": {
     "iopub.execute_input": "2020-09-05T03:33:19.389696Z",
     "iopub.status.busy": "2020-09-05T03:33:19.388676Z",
     "iopub.status.idle": "2020-09-05T03:33:19.392202Z",
     "shell.execute_reply": "2020-09-05T03:33:19.392850Z"
    },
    "papermill": {
     "duration": 0.020503,
     "end_time": "2020-09-05T03:33:19.393029",
     "exception": false,
     "start_time": "2020-09-05T03:33:19.372526",
     "status": "completed"
    },
    "tags": []
   },
   "outputs": [
    {
     "data": {
      "text/plain": [
       "22050"
      ]
     },
     "execution_count": 5,
     "metadata": {},
     "output_type": "execute_result"
    }
   ],
   "source": [
    "sr#sample_Rate"
   ]
  },
  {
   "cell_type": "code",
   "execution_count": 6,
   "metadata": {
    "execution": {
     "iopub.execute_input": "2020-09-05T03:33:19.420084Z",
     "iopub.status.busy": "2020-09-05T03:33:19.419064Z",
     "iopub.status.idle": "2020-09-05T03:33:19.424005Z",
     "shell.execute_reply": "2020-09-05T03:33:19.423262Z"
    },
    "papermill": {
     "duration": 0.021146,
     "end_time": "2020-09-05T03:33:19.424130",
     "exception": false,
     "start_time": "2020-09-05T03:33:19.402984",
     "status": "completed"
    },
    "tags": []
   },
   "outputs": [
    {
     "data": {
      "text/plain": [
       "1.7271655328798186"
      ]
     },
     "execution_count": 6,
     "metadata": {},
     "output_type": "execute_result"
    }
   ],
   "source": [
    "librosa.get_duration(x) #length of audio"
   ]
  },
  {
   "cell_type": "code",
   "execution_count": 7,
   "metadata": {
    "execution": {
     "iopub.execute_input": "2020-09-05T03:33:19.450035Z",
     "iopub.status.busy": "2020-09-05T03:33:19.449218Z",
     "iopub.status.idle": "2020-09-05T03:33:19.466996Z",
     "shell.execute_reply": "2020-09-05T03:33:19.466319Z"
    },
    "papermill": {
     "duration": 0.032909,
     "end_time": "2020-09-05T03:33:19.467125",
     "exception": false,
     "start_time": "2020-09-05T03:33:19.434216",
     "status": "completed"
    },
    "tags": []
   },
   "outputs": [
    {
     "data": {
      "text/html": [
       "\n",
       "                <audio  controls=\"controls\" >\n",
       "                    <source src=\"data:audio/x-wav;base64,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\" type=\"audio/x-wav\" />\n",
       "                    Your browser does not support the audio element.\n",
       "                </audio>\n",
       "              "
      ],
      "text/plain": [
       "<IPython.lib.display.Audio object>"
      ]
     },
     "execution_count": 7,
     "metadata": {},
     "output_type": "execute_result"
    }
   ],
   "source": [
    "ipd.Audio('../input/toronto-emotional-speech-set-tess/TESS Toronto emotional speech set data/OAF_Fear/OAF_back_fear.wav') # load a local WAV file"
   ]
  },
  {
   "cell_type": "code",
   "execution_count": 8,
   "metadata": {
    "execution": {
     "iopub.execute_input": "2020-09-05T03:33:19.497344Z",
     "iopub.status.busy": "2020-09-05T03:33:19.496555Z",
     "iopub.status.idle": "2020-09-05T03:33:19.870035Z",
     "shell.execute_reply": "2020-09-05T03:33:19.870697Z"
    },
    "papermill": {
     "duration": 0.392308,
     "end_time": "2020-09-05T03:33:19.870901",
     "exception": false,
     "start_time": "2020-09-05T03:33:19.478593",
     "status": "completed"
    },
    "tags": []
   },
   "outputs": [
    {
     "data": {
      "text/plain": [
       "Text(0.5, 1.0, 'Mono')"
      ]
     },
     "execution_count": 8,
     "metadata": {},
     "output_type": "execute_result"
    },
    {
     "data": {
      "image/png": "[encoded data removed]",
      "text/plain": [
       "<Figure size 1800x504 with 1 Axes>"
      ]
     },
     "metadata": {
      "needs_background": "light"
     },
     "output_type": "display_data"
    }
   ],
   "source": [
    "plt.figure(figsize=(25,7))\n",
    "librosa.display.waveplot(x, sr=sr,x_axis='time',offset=0)#max sample rate and maxpoints to plot can be specified too\n",
    "plt.title('Mono')"
   ]
  },
  {
   "cell_type": "code",
   "execution_count": 9,
   "metadata": {
    "execution": {
     "iopub.execute_input": "2020-09-05T03:33:19.901781Z",
     "iopub.status.busy": "2020-09-05T03:33:19.900902Z",
     "iopub.status.idle": "2020-09-05T03:33:19.909850Z",
     "shell.execute_reply": "2020-09-05T03:33:19.909209Z"
    },
    "papermill": {
     "duration": 0.026748,
     "end_time": "2020-09-05T03:33:19.909991",
     "exception": false,
     "start_time": "2020-09-05T03:33:19.883243",
     "status": "completed"
    },
    "tags": []
   },
   "outputs": [
    {
     "data": {
      "text/plain": [
       "array([[0.00229211, 0.00215993, 0.00211157, 0.00251368, 0.0031077 ,\n",
       "        0.00400231, 0.00517855, 0.00614355, 0.00689133, 0.00755708,\n",
       "        0.01223721, 0.02283943, 0.04011514, 0.0560139 , 0.06430994,\n",
       "        0.06709661, 0.0616552 , 0.05056204, 0.04218494, 0.03747382,\n",
       "        0.03501404, 0.03139427, 0.02770428, 0.02798084, 0.03180939,\n",
       "        0.03713094, 0.04175619, 0.03993805, 0.03645238, 0.03486064,\n",
       "        0.03387884, 0.03991595, 0.04516451, 0.04771437, 0.04872266,\n",
       "        0.04603438, 0.04402857, 0.04327373, 0.04365199, 0.04050848,\n",
       "        0.03494376, 0.0274067 , 0.0147282 , 0.00691477, 0.00419811,\n",
       "        0.00205105, 0.00213679, 0.00207772, 0.00170733, 0.00557241,\n",
       "        0.02628756, 0.04632271, 0.05238758, 0.05932173, 0.05956268,\n",
       "        0.05227581, 0.0534936 , 0.05190939, 0.05077448, 0.05051855,\n",
       "        0.04741084, 0.04352858, 0.03727962, 0.02817683, 0.01928284,\n",
       "        0.00947457, 0.00465847, 0.0017676 , 0.00170303, 0.00138924,\n",
       "        0.00143103, 0.00149522, 0.00119291, 0.00104608, 0.00080044]],\n",
       "      dtype=float32)"
      ]
     },
     "execution_count": 9,
     "metadata": {},
     "output_type": "execute_result"
    }
   ],
   "source": [
    "#Root mean square value\n",
    "rms=librosa.feature.rms(y=x)\n",
    "rms"
   ]
  },
  {
   "cell_type": "code",
   "execution_count": 10,
   "metadata": {
    "execution": {
     "iopub.execute_input": "2020-09-05T03:33:19.942454Z",
     "iopub.status.busy": "2020-09-05T03:33:19.941304Z",
     "iopub.status.idle": "2020-09-05T03:33:19.946669Z",
     "shell.execute_reply": "2020-09-05T03:33:19.945768Z"
    },
    "papermill": {
     "duration": 0.02366,
     "end_time": "2020-09-05T03:33:19.946816",
     "exception": false,
     "start_time": "2020-09-05T03:33:19.923156",
     "status": "completed"
    },
    "tags": []
   },
   "outputs": [
    {
     "data": {
      "text/plain": [
       "(1, 75)"
      ]
     },
     "execution_count": 10,
     "metadata": {},
     "output_type": "execute_result"
    }
   ],
   "source": [
    "rms.shape#so this has 75 points for 1.712 length of audio"
   ]
  },
  {
   "cell_type": "code",
   "execution_count": 11,
   "metadata": {
    "execution": {
     "iopub.execute_input": "2020-09-05T03:33:19.979096Z",
     "iopub.status.busy": "2020-09-05T03:33:19.978261Z",
     "iopub.status.idle": "2020-09-05T03:33:19.987152Z",
     "shell.execute_reply": "2020-09-05T03:33:19.986355Z"
    },
    "papermill": {
     "duration": 0.027252,
     "end_time": "2020-09-05T03:33:19.987315",
     "exception": false,
     "start_time": "2020-09-05T03:33:19.960063",
     "status": "completed"
    },
    "tags": []
   },
   "outputs": [
    {
     "data": {
      "text/plain": [
       "array([[0.        , 0.03173828, 0.13671875, 0.25146484, 0.37060547,\n",
       "        0.47753906, 0.49023438, 0.52392578, 0.546875  , 0.55419922,\n",
       "        0.46923828, 0.33056641, 0.20166016, 0.06787109, 0.04736328,\n",
       "        0.04931641, 0.04833984, 0.05371094, 0.04980469, 0.04785156,\n",
       "        0.04150391, 0.03076172, 0.02929688, 0.02636719, 0.03271484,\n",
       "        0.03955078, 0.04394531, 0.04638672, 0.04052734, 0.03320312,\n",
       "        0.02880859, 0.03125   , 0.03222656, 0.04248047, 0.04882812,\n",
       "        0.05078125, 0.05419922, 0.04541016, 0.04199219, 0.03613281,\n",
       "        0.03076172, 0.02929688, 0.02832031, 0.02880859, 0.02978516,\n",
       "        0.02832031, 0.01953125, 0.01855469, 0.01220703, 0.01171875,\n",
       "        0.03125   , 0.0390625 , 0.05566406, 0.06982422, 0.06884766,\n",
       "        0.07128906, 0.07373047, 0.07177734, 0.07324219, 0.078125  ,\n",
       "        0.08300781, 0.08837891, 0.08789062, 0.08154297, 0.06689453,\n",
       "        0.04638672, 0.03613281, 0.04003906, 0.0390625 , 0.05273438,\n",
       "        0.05078125, 0.03076172, 0.02246094, 0.00732422, 0.        ]])"
      ]
     },
     "execution_count": 11,
     "metadata": {},
     "output_type": "execute_result"
    }
   ],
   "source": [
    "#Zero crossing rate\n",
    "zcr=librosa.feature.zero_crossing_rate(x)\n",
    "zcr"
   ]
  },
  {
   "cell_type": "code",
   "execution_count": 12,
   "metadata": {
    "execution": {
     "iopub.execute_input": "2020-09-05T03:33:20.019715Z",
     "iopub.status.busy": "2020-09-05T03:33:20.018815Z",
     "iopub.status.idle": "2020-09-05T03:33:20.023639Z",
     "shell.execute_reply": "2020-09-05T03:33:20.022839Z"
    },
    "papermill": {
     "duration": 0.023207,
     "end_time": "2020-09-05T03:33:20.023768",
     "exception": false,
     "start_time": "2020-09-05T03:33:20.000561",
     "status": "completed"
    },
    "tags": []
   },
   "outputs": [
    {
     "data": {
      "text/plain": [
       "(1, 75)"
      ]
     },
     "execution_count": 12,
     "metadata": {},
     "output_type": "execute_result"
    }
   ],
   "source": [
    "zcr.shape#(this also has 75 points of data)"
   ]
  },
  {
   "cell_type": "code",
   "execution_count": 13,
   "metadata": {
    "execution": {
     "iopub.execute_input": "2020-09-05T03:33:20.062693Z",
     "iopub.status.busy": "2020-09-05T03:33:20.061796Z",
     "iopub.status.idle": "2020-09-05T03:33:20.092417Z",
     "shell.execute_reply": "2020-09-05T03:33:20.091619Z"
    },
    "papermill": {
     "duration": 0.051018,
     "end_time": "2020-09-05T03:33:20.092573",
     "exception": false,
     "start_time": "2020-09-05T03:33:20.041555",
     "status": "completed"
    },
    "tags": []
   },
   "outputs": [
    {
     "data": {
      "text/plain": [
       "(12, 75)"
      ]
     },
     "execution_count": 13,
     "metadata": {},
     "output_type": "execute_result"
    }
   ],
   "source": [
    "chroma_stft = librosa.feature.chroma_stft(y=x, sr=sr,n_chroma=12, n_fft=4096)\n",
    "chroma_stft.shape"
   ]
  },
  {
   "cell_type": "code",
   "execution_count": 14,
   "metadata": {
    "execution": {
     "iopub.execute_input": "2020-09-05T03:33:20.129269Z",
     "iopub.status.busy": "2020-09-05T03:33:20.128206Z",
     "iopub.status.idle": "2020-09-05T03:33:20.133684Z",
     "shell.execute_reply": "2020-09-05T03:33:20.132950Z"
    },
    "papermill": {
     "duration": 0.025531,
     "end_time": "2020-09-05T03:33:20.133824",
     "exception": false,
     "start_time": "2020-09-05T03:33:20.108293",
     "status": "completed"
    },
    "tags": []
   },
   "outputs": [
    {
     "data": {
      "text/plain": [
       "array([0.872463  , 0.36884174, 0.26400912, 0.34893572, 0.49926943,\n",
       "       0.601345  , 0.5960075 , 0.600668  , 0.6599845 , 0.64511335,\n",
       "       0.09681074, 0.08356538, 0.18454236, 0.3497914 , 0.63128304,\n",
       "       1.        , 1.        , 1.        , 1.        , 1.        ,\n",
       "       1.        , 1.        , 1.        , 0.6838917 , 0.20118374,\n",
       "       0.08446316, 0.05371696, 0.08414428, 0.15928137, 0.2100409 ,\n",
       "       0.16111049, 0.08614328, 0.04136576, 0.01840327, 0.0130831 ,\n",
       "       0.01321851, 0.01203863, 0.00810285, 0.00994199, 0.02825302,\n",
       "       0.0687624 , 0.15054892, 0.37382823, 0.3173164 , 0.41235173,\n",
       "       0.1826732 , 0.00650652, 0.01082318, 0.06773619, 0.02201381,\n",
       "       0.02759553, 0.06082442, 0.14546524, 0.38695732, 0.43462387,\n",
       "       0.37697172, 0.37071058, 0.29697642, 0.17766154, 0.15370552,\n",
       "       0.32489663, 0.53536505, 0.55170524, 0.46687096, 0.2764551 ,\n",
       "       0.0893306 , 0.11437708, 0.14815529, 0.21055534, 0.27519828,\n",
       "       0.2673462 , 0.31603593, 0.38830167, 0.57841545, 0.95882887],\n",
       "      dtype=float32)"
      ]
     },
     "execution_count": 14,
     "metadata": {},
     "output_type": "execute_result"
    }
   ],
   "source": [
    "chroma_stft[0]\n",
    "#chroma_stft[1]\n",
    "#chroma_stft[2]"
   ]
  },
  {
   "cell_type": "code",
   "execution_count": 15,
   "metadata": {
    "execution": {
     "iopub.execute_input": "2020-09-05T03:33:20.168311Z",
     "iopub.status.busy": "2020-09-05T03:33:20.167517Z",
     "iopub.status.idle": "2020-09-05T03:33:20.333062Z",
     "shell.execute_reply": "2020-09-05T03:33:20.333799Z"
    },
    "papermill": {
     "duration": 0.186686,
     "end_time": "2020-09-05T03:33:20.333991",
     "exception": false,
     "start_time": "2020-09-05T03:33:20.147305",
     "status": "completed"
    },
    "tags": []
   },
   "outputs": [
    {
     "data": {
      "text/plain": [
       "array([[1.        , 1.        , 1.        , 1.        , 1.        ,\n",
       "        1.        , 1.        , 1.        , 1.        , 1.        ,\n",
       "        0.91570302, 0.46688083, 0.07188574, 0.14856161, 0.33030253,\n",
       "        0.77287571, 1.        , 1.        , 0.98631843, 0.80249962,\n",
       "        0.65456482, 0.79330895, 1.        , 1.        , 0.36041621,\n",
       "        0.04559758, 0.04725421, 0.03871491, 0.26403728, 0.41281133,\n",
       "        0.19642273, 0.09928788, 0.05590626, 0.07491829, 0.06432479,\n",
       "        0.02197504, 0.03391658, 0.04672216, 0.04693403, 0.04709692,\n",
       "        0.34978779, 0.90756844, 0.79344335, 1.        , 0.65544043,\n",
       "        0.8570491 , 1.        , 1.        , 1.        , 1.        ,\n",
       "        0.98023273, 0.32908913, 0.13777255, 0.46852946, 0.91577183,\n",
       "        0.71187104, 0.73849358, 0.56056348, 0.14173466, 0.08801665,\n",
       "        0.2636082 , 0.54867896, 0.57138876, 0.17114078, 0.40899773,\n",
       "        0.71794259, 0.58534598, 1.        , 1.        , 1.        ,\n",
       "        1.        , 1.        , 1.        , 1.        , 1.        ],\n",
       "       [0.17236853, 0.16003459, 0.2056515 , 0.34415619, 0.54403211,\n",
       "        0.64922767, 0.73188786, 0.7863884 , 0.8678841 , 0.94103881,\n",
       "        1.        , 0.83457715, 0.43965434, 0.64782343, 1.        ,\n",
       "        1.        , 0.95330636, 0.87281896, 1.        , 1.        ,\n",
       "        1.        , 1.        , 0.43413659, 0.45761723, 1.        ,\n",
       "        0.56942913, 0.65852367, 0.61599955, 1.        , 1.        ,\n",
       "        1.        , 0.78797771, 0.59926539, 0.36831419, 0.44560878,\n",
       "        0.52454928, 0.47592797, 0.39916371, 0.13876042, 0.12928585,\n",
       "        0.67522408, 0.1768545 , 0.18013329, 0.8644064 , 0.52123528,\n",
       "        0.72303438, 0.87185933, 0.88568234, 0.88687772, 0.90559362,\n",
       "        0.97525094, 0.49456771, 0.5175786 , 1.        , 1.        ,\n",
       "        1.        , 1.        , 1.        , 0.73657742, 0.40280392,\n",
       "        0.12131952, 0.46390778, 0.19107405, 0.25309511, 0.23146875,\n",
       "        0.78173109, 0.62432046, 0.66456397, 0.48734774, 0.44000248,\n",
       "        0.57297501, 0.79156795, 0.7652183 , 0.80647046, 0.79363113],\n",
       "       [0.54527886, 0.56038153, 0.59268321, 0.66723075, 0.7596232 ,\n",
       "        0.55948034, 0.55577998, 0.5958275 , 0.48674031, 0.59753319,\n",
       "        0.59601813, 1.        , 1.        , 1.        , 0.79341089,\n",
       "        0.35378619, 0.24951886, 0.18040662, 0.27551083, 0.34245058,\n",
       "        0.44127805, 0.46955491, 0.19556243, 0.22362713, 0.9395629 ,\n",
       "        1.        , 1.        , 1.        , 0.99407657, 0.5759205 ,\n",
       "        0.98760121, 1.        , 1.        , 1.        , 1.        ,\n",
       "        1.        , 1.        , 1.        , 0.92043318, 0.89723989,\n",
       "        1.        , 0.19431091, 0.15290317, 0.69266186, 0.45890084,\n",
       "        0.65899852, 0.76334698, 0.79522574, 0.80155867, 0.81209898,\n",
       "        1.        , 0.81727372, 1.        , 0.67801593, 0.33800385,\n",
       "        0.45483108, 0.40108697, 0.52617497, 1.        , 1.        ,\n",
       "        0.30337459, 0.18980425, 0.12113416, 0.68621418, 0.43368203,\n",
       "        0.88705832, 0.89768689, 0.95189373, 0.84653125, 0.72549565,\n",
       "        0.77967575, 0.80647549, 0.59837132, 0.49863891, 0.39960204],\n",
       "       [0.56728687, 0.55594945, 0.48385741, 0.6103361 , 0.53844056,\n",
       "        0.43733544, 0.28588869, 0.26737091, 0.29226161, 0.36744994,\n",
       "        0.43819453, 0.77899614, 0.83004428, 0.49997191, 0.18905414,\n",
       "        0.04054442, 0.03602325, 0.05285072, 0.04213041, 0.04144962,\n",
       "        0.04420692, 0.08272706, 0.08450881, 0.10286153, 0.44655359,\n",
       "        0.51489974, 0.42440742, 0.48177283, 0.35061726, 0.02443904,\n",
       "        0.3069427 , 0.37594572, 0.46881558, 0.70937891, 0.61443489,\n",
       "        0.52607168, 0.57288087, 0.65363425, 1.        , 1.        ,\n",
       "        0.84121398, 0.23044433, 0.0689712 , 0.45949973, 0.28127692,\n",
       "        0.48773022, 0.6591231 , 0.70223806, 0.68154986, 0.71554219,\n",
       "        0.96438218, 1.        , 0.78392255, 0.2282167 , 0.13882171,\n",
       "        0.09741034, 0.07235396, 0.09604405, 0.41505314, 0.76152479,\n",
       "        0.98192092, 0.22525373, 0.35999353, 1.        , 0.84510776,\n",
       "        0.90574115, 1.        , 0.78204019, 0.47052954, 0.36233374,\n",
       "        0.45858919, 0.48980236, 0.3493499 , 0.30138043, 0.23822684],\n",
       "       [0.09590957, 0.16948374, 0.21038497, 0.42754376, 0.44633279,\n",
       "        0.40721617, 0.41302061, 0.49373275, 0.44188685, 0.64072804,\n",
       "        0.41407012, 0.42522274, 0.32016822, 0.0928871 , 0.03523592,\n",
       "        0.02977188, 0.01925149, 0.02267722, 0.02301869, 0.02486269,\n",
       "        0.02560404, 0.02766067, 0.05389617, 0.05473417, 0.18137968,\n",
       "        0.05331417, 0.0274812 , 0.04062343, 0.0969821 , 0.04036903,\n",
       "        0.04819771, 0.03464989, 0.05681043, 0.13994254, 0.08405997,\n",
       "        0.03635107, 0.05800571, 0.08182965, 0.31667136, 0.31121095,\n",
       "        0.34452428, 0.13914441, 0.04087245, 0.35216344, 0.29254996,\n",
       "        0.5712165 , 0.96579981, 0.70295205, 0.62967227, 0.64964247,\n",
       "        0.88790888, 0.67612964, 0.30294271, 0.1786757 , 0.22339908,\n",
       "        0.12901521, 0.09609834, 0.10811672, 0.0636618 , 0.17697254,\n",
       "        1.        , 0.3682902 , 1.        , 0.44225239, 1.        ,\n",
       "        1.        , 0.74188874, 0.72615993, 0.46450611, 0.47130319,\n",
       "        0.54077152, 0.67477971, 0.59773501, 0.623825  , 0.58939467],\n",
       "       [0.09718067, 0.15655948, 0.24624609, 0.47845046, 0.55498449,\n",
       "        0.51102852, 0.56853215, 0.56653898, 0.42660433, 0.57038852,\n",
       "        0.44110037, 0.16682611, 0.1003115 , 0.05671637, 0.02800693,\n",
       "        0.02610673, 0.01862761, 0.0170479 , 0.02309946, 0.02305266,\n",
       "        0.0223131 , 0.02951901, 0.01957571, 0.03093594, 0.08936268,\n",
       "        0.0368597 , 0.03051981, 0.02318807, 0.02850981, 0.02209924,\n",
       "        0.01996671, 0.02069481, 0.02770448, 0.0169922 , 0.03654465,\n",
       "        0.02675632, 0.04115222, 0.05702629, 0.03421875, 0.03247953,\n",
       "        0.05932589, 0.04785563, 0.0334774 , 0.45526649, 0.60801918,\n",
       "        1.        , 0.97722954, 0.60942169, 0.56786541, 0.57861771,\n",
       "        0.78281614, 0.35967264, 0.17558621, 0.17315172, 0.19611432,\n",
       "        0.12916567, 0.10870095, 0.11518121, 0.0738345 , 0.12026161,\n",
       "        0.36064587, 1.        , 0.87593714, 0.1380141 , 0.56698306,\n",
       "        0.86636803, 0.48972234, 0.61317805, 0.41894006, 0.39687201,\n",
       "        0.54773231, 0.68955514, 0.80781022, 0.78617478, 0.7094466 ],\n",
       "       [0.39048678, 0.39494804, 0.45483466, 0.75012511, 0.60497781,\n",
       "        0.58482235, 0.39099067, 0.46503657, 0.29295029, 0.35727984,\n",
       "        0.35683217, 0.1538471 , 0.06588782, 0.04763576, 0.02347444,\n",
       "        0.01147724, 0.01036772, 0.01736122, 0.02346356, 0.01766074,\n",
       "        0.0149023 , 0.01222266, 0.04696353, 0.06531713, 0.04463305,\n",
       "        0.04260333, 0.02414047, 0.01852456, 0.01685763, 0.01952588,\n",
       "        0.01544106, 0.01631955, 0.01342966, 0.02076824, 0.01450069,\n",
       "        0.02148911, 0.03311606, 0.05710905, 0.078272  , 0.09416292,\n",
       "        0.03890851, 0.03343346, 0.02857446, 0.57966632, 1.        ,\n",
       "        0.94451494, 0.60021786, 0.48290762, 0.50703683, 0.53108812,\n",
       "        0.68911997, 0.22989913, 0.17308437, 0.10657088, 0.18510071,\n",
       "        0.06152372, 0.08293929, 0.05679711, 0.08173701, 0.12139279,\n",
       "        0.06077257, 0.76033671, 0.25853343, 0.23796037, 0.25543278,\n",
       "        0.59483763, 0.34584823, 0.42711608, 0.30397388, 0.26931971,\n",
       "        0.4017397 , 0.54061635, 0.48422044, 0.47334221, 0.42851569],\n",
       "       [0.41437373, 0.42354886, 0.47077964, 0.83960045, 0.68441993,\n",
       "        0.57532828, 0.43396349, 0.58715392, 0.36709034, 0.39738214,\n",
       "        0.33079233, 0.12582572, 0.04011571, 0.03525374, 0.05274289,\n",
       "        0.0618613 , 0.04377359, 0.0537755 , 0.06740238, 0.0542052 ,\n",
       "        0.04935937, 0.04995212, 0.06237057, 0.06301378, 0.04972378,\n",
       "        0.03308529, 0.01988289, 0.01631868, 0.05569436, 0.07100573,\n",
       "        0.03994198, 0.02528993, 0.01933054, 0.02138061, 0.01258368,\n",
       "        0.01302738, 0.02129254, 0.03167611, 0.07811914, 0.11942108,\n",
       "        0.03293248, 0.02925019, 0.03096582, 0.40313826, 0.49544507,\n",
       "        0.36100491, 0.31727886, 0.36844784, 0.43900341, 0.48708579,\n",
       "        0.62719075, 0.23710085, 0.11135141, 0.20297702, 0.73608707,\n",
       "        0.47462966, 0.49827362, 0.384816  , 0.05912918, 0.05708457,\n",
       "        0.10301865, 0.21509323, 0.10005486, 0.28205121, 0.24457143,\n",
       "        0.71923858, 0.25228262, 0.27790278, 0.33537077, 0.37865679,\n",
       "        0.33649251, 0.39813381, 0.28332216, 0.20472039, 0.21353715],\n",
       "       [0.33860873, 0.33006804, 0.32178145, 0.52265576, 0.56090367,\n",
       "        0.52833917, 0.37038771, 0.54744077, 0.48907783, 0.46202844,\n",
       "        0.58684814, 0.13001323, 0.05182102, 0.08973171, 0.13941293,\n",
       "        0.09504904, 0.05104038, 0.04855267, 0.07175054, 0.06563499,\n",
       "        0.0719694 , 0.07555051, 0.03144209, 0.02791643, 0.09366524,\n",
       "        0.05386456, 0.07505588, 0.07316304, 0.19912188, 0.13096418,\n",
       "        0.10297554, 0.07523807, 0.08160202, 0.06994944, 0.05800674,\n",
       "        0.06164779, 0.06266124, 0.05978709, 0.02842171, 0.0523545 ,\n",
       "        0.05755246, 0.0684906 , 0.00989254, 0.1413841 , 0.12700719,\n",
       "        0.16167912, 0.23773691, 0.30650996, 0.38599346, 0.44517305,\n",
       "        0.56642797, 0.21081741, 0.10210702, 0.43678354, 0.82317265,\n",
       "        0.75113981, 0.70604401, 0.66067742, 0.47984627, 0.24380443,\n",
       "        0.09004443, 0.09120694, 0.14727146, 0.182862  , 0.45650536,\n",
       "        0.81536259, 0.23019445, 0.20297167, 0.29534654, 0.35810797,\n",
       "        0.43126987, 0.64162823, 0.42744449, 0.32383914, 0.28877296],\n",
       "       [0.22415215, 0.22070009, 0.29935653, 0.55962267, 0.51873095,\n",
       "        0.51504163, 0.52245431, 0.29732945, 0.49677176, 0.47868049,\n",
       "        0.74953219, 0.15278121, 0.08792897, 0.12624578, 0.11226934,\n",
       "        0.03804567, 0.0394971 , 0.03629297, 0.03478444, 0.03803587,\n",
       "        0.04612128, 0.05186851, 0.03801402, 0.04541974, 0.06976143,\n",
       "        0.08811952, 0.10177814, 0.11920164, 0.19920417, 0.07598594,\n",
       "        0.08375136, 0.08471399, 0.16070731, 0.22213252, 0.12656183,\n",
       "        0.11434674, 0.1319177 , 0.14116496, 0.11744565, 0.10179259,\n",
       "        0.18725077, 0.10562405, 0.03626218, 0.22581228, 0.12542132,\n",
       "        0.08256558, 0.17888184, 0.25564584, 0.33014155, 0.39905687,\n",
       "        0.52267815, 0.21498243, 0.12958371, 0.2897648 , 0.26931322,\n",
       "        0.34503445, 0.2742141 , 0.29649972, 0.68740917, 0.60517091,\n",
       "        0.16749511, 0.10878952, 0.11554223, 0.55116706, 0.23744801,\n",
       "        0.69987191, 0.20226538, 0.25948388, 0.40327421, 0.3653157 ,\n",
       "        0.42842514, 0.5967898 , 0.33442633, 0.32517185, 0.24050472],\n",
       "       [0.16666782, 0.14663422, 0.17592264, 0.46665343, 0.75280206,\n",
       "        0.39256792, 0.21328476, 0.58696274, 0.74465634, 0.98886869,\n",
       "        0.61837513, 0.21588753, 0.05907965, 0.06654725, 0.02645002,\n",
       "        0.05142572, 0.08439122, 0.07224303, 0.06365668, 0.04541736,\n",
       "        0.04054635, 0.0765277 , 0.19753263, 0.20523397, 0.04794263,\n",
       "        0.05774731, 0.0495074 , 0.07041617, 0.07218903, 0.02001716,\n",
       "        0.02498591, 0.03362112, 0.09408175, 0.21452496, 0.0804687 ,\n",
       "        0.06403229, 0.08042736, 0.09527432, 0.14251365, 0.13517542,\n",
       "        0.21626465, 0.40558753, 0.4706766 , 0.58773691, 0.14548224,\n",
       "        0.08016397, 0.14097361, 0.20934916, 0.27857623, 0.35739739,\n",
       "        0.47996882, 0.22477586, 0.06786621, 0.06132007, 0.08197118,\n",
       "        0.05957097, 0.05205264, 0.0454957 , 0.27760754, 0.41089653,\n",
       "        0.65148817, 0.11260304, 0.1838979 , 0.71656041, 0.41025437,\n",
       "        0.6346776 , 0.16046295, 0.21824592, 0.30927109, 0.36249085,\n",
       "        0.65230437, 0.44267427, 0.19118834, 0.19383634, 0.15105109],\n",
       "       [0.19543658, 0.17312869, 0.14988487, 0.45258231, 0.76975677,\n",
       "        0.29572786, 0.58349236, 0.52914173, 0.86940893, 0.99472472,\n",
       "        0.82662142, 0.20491362, 0.04039254, 0.04493532, 0.08129548,\n",
       "        0.10628512, 0.27584192, 0.28296912, 0.1956542 , 0.10949818,\n",
       "        0.04965093, 0.15424957, 0.8168253 , 0.6798118 , 0.12204587,\n",
       "        0.03418306, 0.0252648 , 0.02897473, 0.05757862, 0.03168329,\n",
       "        0.05853867, 0.0226179 , 0.02274602, 0.09123676, 0.03068055,\n",
       "        0.02051388, 0.02557246, 0.03110121, 0.0559641 , 0.05954662,\n",
       "        0.20317261, 1.        , 1.        , 0.79208703, 0.11332139,\n",
       "        0.03979574, 0.0817392 , 0.15194519, 0.22220854, 0.30668761,\n",
       "        0.4521159 , 0.16676455, 0.04937528, 0.09390974, 0.1733358 ,\n",
       "        0.05430155, 0.11110841, 0.09345617, 0.06611583, 0.06852403,\n",
       "        0.70392554, 0.21786949, 0.6159089 , 0.34169639, 0.5397023 ,\n",
       "        0.62310789, 0.21268987, 0.30765254, 0.41921034, 0.41643519,\n",
       "        0.67436824, 0.37908336, 0.24815687, 0.28360397, 0.22014071]])"
      ]
     },
     "execution_count": 15,
     "metadata": {},
     "output_type": "execute_result"
    }
   ],
   "source": [
    "chroma_cqt = librosa.feature.chroma_cqt(y=x, sr=sr, n_chroma=12)\n",
    "chroma_cqt \n",
    "#this also can produce those 12 features or n=more"
   ]
  },
  {
   "cell_type": "code",
   "execution_count": 16,
   "metadata": {
    "execution": {
     "iopub.execute_input": "2020-09-05T03:33:20.370440Z",
     "iopub.status.busy": "2020-09-05T03:33:20.369553Z",
     "iopub.status.idle": "2020-09-05T03:33:20.387872Z",
     "shell.execute_reply": "2020-09-05T03:33:20.387156Z"
    },
    "papermill": {
     "duration": 0.038097,
     "end_time": "2020-09-05T03:33:20.388005",
     "exception": false,
     "start_time": "2020-09-05T03:33:20.349908",
     "status": "completed"
    },
    "tags": []
   },
   "outputs": [],
   "source": [
    "#13 mfcc features\n",
    "mfcc_full=librosa.feature.mfcc(y=x, sr=sr,n_mfcc=12)"
   ]
  },
  {
   "cell_type": "code",
   "execution_count": 17,
   "metadata": {
    "execution": {
     "iopub.execute_input": "2020-09-05T03:33:20.424050Z",
     "iopub.status.busy": "2020-09-05T03:33:20.423140Z",
     "iopub.status.idle": "2020-09-05T03:33:20.428408Z",
     "shell.execute_reply": "2020-09-05T03:33:20.427666Z"
    },
    "papermill": {
     "duration": 0.025058,
     "end_time": "2020-09-05T03:33:20.428558",
     "exception": false,
     "start_time": "2020-09-05T03:33:20.403500",
     "status": "completed"
    },
    "tags": []
   },
   "outputs": [
    {
     "data": {
      "text/plain": [
       "(12, 75)"
      ]
     },
     "execution_count": 17,
     "metadata": {},
     "output_type": "execute_result"
    }
   ],
   "source": [
    "mfcc_full.shape"
   ]
  },
  {
   "cell_type": "code",
   "execution_count": 18,
   "metadata": {
    "execution": {
     "iopub.execute_input": "2020-09-05T03:33:20.469385Z",
     "iopub.status.busy": "2020-09-05T03:33:20.468291Z",
     "iopub.status.idle": "2020-09-05T03:33:20.473438Z",
     "shell.execute_reply": "2020-09-05T03:33:20.472632Z"
    },
    "papermill": {
     "duration": 0.026726,
     "end_time": "2020-09-05T03:33:20.473585",
     "exception": false,
     "start_time": "2020-09-05T03:33:20.446859",
     "status": "completed"
    },
    "tags": []
   },
   "outputs": [
    {
     "data": {
      "text/plain": [
       "array([-677.2332 , -675.87317, -600.7658 , -502.476  , -447.7669 ,\n",
       "       -431.79114, -424.62842, -414.86096, -401.05603, -387.44937,\n",
       "       -367.61362, -329.8824 , -312.58594, -283.74188, -285.59818,\n",
       "       -301.84302, -329.50568, -348.67838, -363.70392, -375.63278,\n",
       "       -384.50116, -385.38684, -401.30402, -398.56732, -358.57077,\n",
       "       -356.8855 , -370.559  , -397.33383, -426.45526, -463.35477,\n",
       "       -477.7436 , -475.72577, -441.56747, -398.29007, -385.03244,\n",
       "       -394.68372, -396.74606, -387.01865, -387.0765 , -383.00754,\n",
       "       -371.57538, -433.58142, -545.6407 , -597.7789 , -621.3669 ,\n",
       "       -651.75854, -655.3672 , -663.4853 , -671.7371 , -617.7082 ,\n",
       "       -378.90393, -281.64883, -252.30345, -258.1634 , -287.36392,\n",
       "       -295.22934, -294.0879 , -283.0883 , -284.439  , -290.58908,\n",
       "       -282.73135, -290.66794, -281.3866 , -298.75473, -337.88712,\n",
       "       -400.63864, -530.83606, -643.50226, -632.1413 , -610.2991 ,\n",
       "       -611.6684 , -629.6746 , -650.2155 , -667.8025 , -672.3247 ],\n",
       "      dtype=float32)"
      ]
     },
     "execution_count": 18,
     "metadata": {},
     "output_type": "execute_result"
    }
   ],
   "source": [
    "mfcc_full[0] #first 75 features like wise can be done for all other\n",
    "#mfcc_Full[1]\n",
    "#mfcc_full[2]"
   ]
  },
  {
   "cell_type": "code",
   "execution_count": 19,
   "metadata": {
    "execution": {
     "iopub.execute_input": "2020-09-05T03:33:20.508996Z",
     "iopub.status.busy": "2020-09-05T03:33:20.508130Z",
     "iopub.status.idle": "2020-09-05T03:33:20.521411Z",
     "shell.execute_reply": "2020-09-05T03:33:20.520701Z"
    },
    "papermill": {
     "duration": 0.033625,
     "end_time": "2020-09-05T03:33:20.521543",
     "exception": false,
     "start_time": "2020-09-05T03:33:20.487918",
     "status": "completed"
    },
    "tags": []
   },
   "outputs": [
    {
     "data": {
      "text/plain": [
       "array([[ 853.36975196,  999.72840235, 3432.34114482, 4945.35086758,\n",
       "        5478.24145403, 5896.84464002, 6135.87389019, 6209.47022491,\n",
       "        6348.9860958 , 6312.58156825, 6140.19277622, 4800.91142338,\n",
       "        2842.81614152, 2175.51116729, 1902.4737304 , 1710.5425528 ,\n",
       "        1693.50881557, 1838.0764675 , 1966.44280857, 1929.94482718,\n",
       "        1864.79308886, 1665.79362415, 1841.15009619, 2101.75022672,\n",
       "        1724.83014077, 1802.52401137, 1728.49516649, 1359.99413337,\n",
       "        1080.13856301,  969.25205635,  894.23751814,  829.4179839 ,\n",
       "         949.93865525, 1116.12838389, 1242.77542869, 1351.72754316,\n",
       "        1426.99681983, 1506.86111618, 1597.8883588 , 1580.12041122,\n",
       "        1399.79230975, 1176.24615761,  639.52383722,  497.07169144,\n",
       "         907.93322776,  954.36019918,  828.44554238,  907.08288212,\n",
       "         963.88982343, 1596.96668183, 1598.88654716, 1498.09808629,\n",
       "        1434.50967152, 1504.02297088, 1782.15832091, 1877.08978469,\n",
       "        2031.13173759, 1786.22216066, 1660.28567865, 1479.192635  ,\n",
       "        1355.14445489, 1467.27253234, 1620.59341997, 1664.80140699,\n",
       "        1523.24697795, 1481.91082037, 1219.69235976, 1568.61861894,\n",
       "        2644.39289461, 2253.02546329, 1781.68620165, 1796.50528092,\n",
       "        1676.35733843, 1900.27970343, 2259.24174052]])"
      ]
     },
     "execution_count": 19,
     "metadata": {},
     "output_type": "execute_result"
    }
   ],
   "source": [
    "#spectral_Centroid\n",
    "spectral_cent = librosa.feature.spectral_centroid(y=x, sr=sr)\n",
    "spectral_cent#it has 75 values too"
   ]
  },
  {
   "cell_type": "code",
   "execution_count": 20,
   "metadata": {
    "execution": {
     "iopub.execute_input": "2020-09-05T03:33:20.556901Z",
     "iopub.status.busy": "2020-09-05T03:33:20.556031Z",
     "iopub.status.idle": "2020-09-05T03:33:20.570669Z",
     "shell.execute_reply": "2020-09-05T03:33:20.569745Z"
    },
    "papermill": {
     "duration": 0.0345,
     "end_time": "2020-09-05T03:33:20.570860",
     "exception": false,
     "start_time": "2020-09-05T03:33:20.536360",
     "status": "completed"
    },
    "tags": []
   },
   "outputs": [
    {
     "data": {
      "text/plain": [
       "array([[2268.3033045 , 2324.12555911, 3224.34425479, 2826.79700315,\n",
       "        2510.13586121, 2499.62442709, 2503.92339504, 2502.33644682,\n",
       "        2432.45309878, 2311.0538117 , 2471.80841277, 3219.2386849 ,\n",
       "        3064.7560835 , 2570.22455141, 2306.17277466, 2186.15948427,\n",
       "        2235.17728895, 2374.79044386, 2505.9141118 , 2501.94728324,\n",
       "        2546.1313347 , 2462.64005058, 2752.82767552, 3025.26183628,\n",
       "        2607.6044716 , 2588.6961476 , 2498.22293915, 2178.26906554,\n",
       "        1903.64434843, 1803.45034568, 1766.42129871, 1588.89577947,\n",
       "        1598.64004561, 1787.04987004, 1901.23586079, 2031.73441627,\n",
       "        2198.55095021, 2185.82231528, 2253.81586328, 2187.33970356,\n",
       "        1913.97885672, 1655.48893863, 1145.09877473, 1193.67226169,\n",
       "        1901.34818452, 2076.74091012, 2010.1701767 , 2184.13141315,\n",
       "        2339.02240853, 2619.79060488, 2232.80347008, 1951.94578007,\n",
       "        1729.1953495 , 1740.984599  , 2102.24993082, 2279.83427663,\n",
       "        2437.4380106 , 2166.44856002, 2016.5786971 , 1716.78054023,\n",
       "        1463.88882742, 1470.88270317, 1635.85117223, 1762.72725568,\n",
       "        1729.23933578, 1843.44757924, 1951.78067461, 2713.005648  ,\n",
       "        3038.07434823, 2769.86953345, 2462.30027141, 2571.63428935,\n",
       "        2870.39919515, 3012.15442886, 3218.38145912]])"
      ]
     },
     "execution_count": 20,
     "metadata": {},
     "output_type": "execute_result"
    }
   ],
   "source": [
    "spectral_bw = librosa.feature.spectral_bandwidth(y=x, sr=sr)\n",
    "spectral_bw"
   ]
  },
  {
   "cell_type": "code",
   "execution_count": 21,
   "metadata": {
    "execution": {
     "iopub.execute_input": "2020-09-05T03:33:20.608377Z",
     "iopub.status.busy": "2020-09-05T03:33:20.606899Z",
     "iopub.status.idle": "2020-09-05T03:33:20.619329Z",
     "shell.execute_reply": "2020-09-05T03:33:20.618641Z"
    },
    "papermill": {
     "duration": 0.033485,
     "end_time": "2020-09-05T03:33:20.619465",
     "exception": false,
     "start_time": "2020-09-05T03:33:20.585980",
     "status": "completed"
    },
    "tags": []
   },
   "outputs": [
    {
     "data": {
      "text/plain": [
       "array([[5.77756546e-05, 1.41463985e-04, 5.37756830e-03, 1.00899011e-01,\n",
       "        1.85726106e-01, 1.74786434e-01, 1.57326415e-01, 1.26976117e-01,\n",
       "        1.23077735e-01, 1.44523844e-01, 1.49412930e-01, 4.60298285e-02,\n",
       "        6.62720064e-03, 3.15254182e-03, 1.39927585e-03, 9.07011214e-04,\n",
       "        6.31684670e-04, 7.63215474e-04, 9.77079966e-04, 9.35216551e-04,\n",
       "        6.79877412e-04, 6.16029953e-04, 1.41315663e-03, 2.57713115e-03,\n",
       "        1.36204401e-03, 7.29434949e-04, 4.55320172e-04, 2.10206956e-04,\n",
       "        1.52983223e-04, 1.18240707e-04, 6.86195126e-05, 4.66409474e-05,\n",
       "        6.69360743e-05, 1.21464007e-04, 1.77625028e-04, 1.78193019e-04,\n",
       "        2.01244387e-04, 3.09216644e-04, 3.47320660e-04, 3.02062632e-04,\n",
       "        3.67298926e-04, 2.94658501e-04, 4.84675220e-05, 6.14471865e-05,\n",
       "        3.33234872e-04, 2.48630677e-04, 1.62794473e-04, 1.52827139e-04,\n",
       "        1.22696452e-04, 3.22366878e-03, 7.07793981e-03, 2.30982038e-03,\n",
       "        1.18689879e-03, 1.60278927e-03, 1.38158025e-03, 1.47710228e-03,\n",
       "        1.72598951e-03, 1.72783621e-03, 1.41204032e-03, 1.06908241e-03,\n",
       "        9.45235894e-04, 1.05127378e-03, 2.14574696e-03, 2.58383807e-03,\n",
       "        2.99825706e-03, 4.06472571e-03, 1.64844969e-03, 8.53635429e-04,\n",
       "        5.51688625e-03, 3.73658142e-03, 1.48904929e-03, 1.56149687e-03,\n",
       "        8.75865226e-04, 9.65781102e-04, 1.80423539e-03]], dtype=float32)"
      ]
     },
     "execution_count": 21,
     "metadata": {},
     "output_type": "execute_result"
    }
   ],
   "source": [
    "spectral_flatness = librosa.feature.spectral_flatness(y=x)\n",
    "spectral_flatness"
   ]
  },
  {
   "cell_type": "code",
   "execution_count": 22,
   "metadata": {
    "execution": {
     "iopub.execute_input": "2020-09-05T03:33:20.656064Z",
     "iopub.status.busy": "2020-09-05T03:33:20.655249Z",
     "iopub.status.idle": "2020-09-05T03:33:20.666373Z",
     "shell.execute_reply": "2020-09-05T03:33:20.665673Z"
    },
    "papermill": {
     "duration": 0.031901,
     "end_time": "2020-09-05T03:33:20.666512",
     "exception": false,
     "start_time": "2020-09-05T03:33:20.634611",
     "status": "completed"
    },
    "tags": []
   },
   "outputs": [
    {
     "data": {
      "text/plain": [
       "array([[ 796.72851562, 2734.71679688, 7407.421875  , 8397.94921875,\n",
       "        8419.48242188, 8602.51464844, 8720.94726562, 8645.58105469,\n",
       "        8591.74804688, 8451.78222656, 8441.015625  , 8290.28320312,\n",
       "        7299.75585938, 5103.36914062, 3671.41113281, 3046.94824219,\n",
       "        3294.58007812, 4091.30859375, 5189.50195312, 4091.30859375,\n",
       "        4091.30859375, 3779.07714844, 5544.79980469, 6632.2265625 ,\n",
       "        4909.5703125 , 5189.50195312, 4866.50390625, 2304.05273438,\n",
       "        1098.19335938,  947.4609375 ,  861.328125  ,  872.09472656,\n",
       "         925.92773438, 1162.79296875, 1464.2578125 , 1754.95605469,\n",
       "        1765.72265625, 1808.7890625 , 1841.08886719, 1927.22167969,\n",
       "        1841.08886719, 1798.02246094, 1464.2578125 ,  398.36425781,\n",
       "         732.12890625,  732.12890625,  441.43066406,  882.86132812,\n",
       "        1798.02246094, 4328.17382812, 3402.24609375, 2476.31835938,\n",
       "        2336.35253906, 2293.28613281, 2562.45117188, 2939.28222656,\n",
       "        4705.00488281, 2627.05078125, 2034.88769531, 1776.48925781,\n",
       "        1636.5234375 , 1787.25585938, 2131.78710938, 2271.75292969,\n",
       "        2088.72070312, 2164.08691406, 2077.95410156, 4888.03710938,\n",
       "        6976.7578125 , 5211.03515625, 4554.27246094, 4231.27441406,\n",
       "        4597.33886719, 5835.49804688, 6836.79199219]])"
      ]
     },
     "execution_count": 22,
     "metadata": {},
     "output_type": "execute_result"
    }
   ],
   "source": [
    "spectral_rolloff = librosa.feature.spectral_rolloff(y=x, sr=sr)\n",
    "spectral_rolloff"
   ]
  },
  {
   "cell_type": "code",
   "execution_count": 23,
   "metadata": {
    "execution": {
     "iopub.execute_input": "2020-09-05T03:33:20.703011Z",
     "iopub.status.busy": "2020-09-05T03:33:20.702203Z",
     "iopub.status.idle": "2020-09-05T03:33:20.705565Z",
     "shell.execute_reply": "2020-09-05T03:33:20.704791Z"
    },
    "papermill": {
     "duration": 0.02357,
     "end_time": "2020-09-05T03:33:20.705694",
     "exception": false,
     "start_time": "2020-09-05T03:33:20.682124",
     "status": "completed"
    },
    "tags": []
   },
   "outputs": [],
   "source": [
    "import csv"
   ]
  },
  {
   "cell_type": "code",
   "execution_count": 24,
   "metadata": {
    "execution": {
     "iopub.execute_input": "2020-09-05T03:33:20.742828Z",
     "iopub.status.busy": "2020-09-05T03:33:20.741887Z",
     "iopub.status.idle": "2020-09-05T03:33:33.072113Z",
     "shell.execute_reply": "2020-09-05T03:33:33.072731Z"
    },
    "papermill": {
     "duration": 12.351764,
     "end_time": "2020-09-05T03:33:33.072910",
     "exception": false,
     "start_time": "2020-09-05T03:33:20.721146",
     "status": "completed"
    },
    "tags": []
   },
   "outputs": [
    {
     "name": "stdout",
     "output_type": "stream",
     "text": [
      "Collecting spafe\r\n",
      "  Downloading spafe-0.1.2-py3-none-any.whl (77 kB)\r\n",
      "\u001b[K     |████████████████████████████████| 77 kB 186 kB/s \r\n",
      "\u001b[?25hRequirement already satisfied: numpy>=1.17.2 in /opt/conda/lib/python3.7/site-packages (from spafe) (1.18.5)\r\n",
      "Requirement already satisfied: scipy>=1.3.1 in /opt/conda/lib/python3.7/site-packages (from spafe) (1.4.1)\r\n",
      "Installing collected packages: spafe\r\n",
      "Successfully installed spafe-0.1.2\r\n",
      "\u001b[33mWARNING: You are using pip version 20.1.1; however, version 20.2.2 is available.\r\n",
      "You should consider upgrading via the '/opt/conda/bin/python -m pip install --upgrade pip' command.\u001b[0m\r\n",
      "Note: you may need to restart the kernel to use updated packages.\n"
     ]
    }
   ],
   "source": [
    "pip install spafe"
   ]
  },
  {
   "cell_type": "code",
   "execution_count": 25,
   "metadata": {
    "execution": {
     "iopub.execute_input": "2020-09-05T03:33:33.113798Z",
     "iopub.status.busy": "2020-09-05T03:33:33.112689Z",
     "iopub.status.idle": "2020-09-05T03:33:33.124142Z",
     "shell.execute_reply": "2020-09-05T03:33:33.123356Z"
    },
    "papermill": {
     "duration": 0.034729,
     "end_time": "2020-09-05T03:33:33.124320",
     "exception": false,
     "start_time": "2020-09-05T03:33:33.089591",
     "status": "completed"
    },
    "tags": []
   },
   "outputs": [],
   "source": [
    "import scipy\n",
    "from spafe.utils import vis\n",
    "from spafe.features.gfcc import gfcc"
   ]
  },
  {
   "cell_type": "code",
   "execution_count": 26,
   "metadata": {
    "execution": {
     "iopub.execute_input": "2020-09-05T03:33:33.165142Z",
     "iopub.status.busy": "2020-09-05T03:33:33.163945Z",
     "iopub.status.idle": "2020-09-05T03:33:33.169507Z",
     "shell.execute_reply": "2020-09-05T03:33:33.168858Z"
    },
    "papermill": {
     "duration": 0.02861,
     "end_time": "2020-09-05T03:33:33.169642",
     "exception": false,
     "start_time": "2020-09-05T03:33:33.141032",
     "status": "completed"
    },
    "tags": []
   },
   "outputs": [
    {
     "data": {
      "text/plain": [
       "'/kaggle/working'"
      ]
     },
     "execution_count": 26,
     "metadata": {},
     "output_type": "execute_result"
    }
   ],
   "source": [
    "pwd()"
   ]
  },
  {
   "cell_type": "code",
   "execution_count": 27,
   "metadata": {
    "execution": {
     "iopub.execute_input": "2020-09-05T03:33:33.212129Z",
     "iopub.status.busy": "2020-09-05T03:33:33.211016Z",
     "iopub.status.idle": "2020-09-05T03:33:33.214902Z",
     "shell.execute_reply": "2020-09-05T03:33:33.214092Z"
    },
    "papermill": {
     "duration": 0.028411,
     "end_time": "2020-09-05T03:33:33.215036",
     "exception": false,
     "start_time": "2020-09-05T03:33:33.186625",
     "status": "completed"
    },
    "tags": []
   },
   "outputs": [],
   "source": [
    "# init input vars\n",
    "num_ceps = 13\n",
    "low_freq = 0\n",
    "high_freq = 2000\n",
    "nfilts = 24\n",
    "nfft = 512\n",
    "dct_type = 2,\n",
    "use_energy = False,\n",
    "lifter = 5\n",
    "normalize = False"
   ]
  },
  {
   "cell_type": "code",
   "execution_count": 28,
   "metadata": {
    "execution": {
     "iopub.execute_input": "2020-09-05T03:33:33.254301Z",
     "iopub.status.busy": "2020-09-05T03:33:33.253526Z",
     "iopub.status.idle": "2020-09-05T03:33:33.259703Z",
     "shell.execute_reply": "2020-09-05T03:33:33.258997Z"
    },
    "papermill": {
     "duration": 0.027907,
     "end_time": "2020-09-05T03:33:33.259840",
     "exception": false,
     "start_time": "2020-09-05T03:33:33.231933",
     "status": "completed"
    },
    "tags": []
   },
   "outputs": [],
   "source": [
    "# read wav \n",
    "fs, sig = scipy.io.wavfile.read(\"../input/toronto-emotional-speech-set-tess/TESS Toronto emotional speech set data/OAF_Fear/OAF_back_fear.wav\")"
   ]
  },
  {
   "cell_type": "code",
   "execution_count": 29,
   "metadata": {
    "execution": {
     "iopub.execute_input": "2020-09-05T03:33:33.302696Z",
     "iopub.status.busy": "2020-09-05T03:33:33.301796Z",
     "iopub.status.idle": "2020-09-05T03:33:33.432982Z",
     "shell.execute_reply": "2020-09-05T03:33:33.432215Z"
    },
    "papermill": {
     "duration": 0.156325,
     "end_time": "2020-09-05T03:33:33.433114",
     "exception": false,
     "start_time": "2020-09-05T03:33:33.276789",
     "status": "completed"
    },
    "tags": []
   },
   "outputs": [
    {
     "ename": "TypeError",
     "evalue": "can't multiply sequence by non-int of type 'float'",
     "output_type": "error",
     "traceback": [
      "\u001b[0;31m---------------------------------------------------------------------------\u001b[0m",
      "\u001b[0;31mTypeError\u001b[0m                                 Traceback (most recent call last)",
      "\u001b[0;32m<ipython-input-29-c61787ca2d94>\u001b[0m in \u001b[0;36m<module>\u001b[0;34m\u001b[0m\n\u001b[1;32m     10\u001b[0m              \u001b[0muse_energy\u001b[0m\u001b[0;34m=\u001b[0m\u001b[0muse_energy\u001b[0m\u001b[0;34m,\u001b[0m\u001b[0;34m\u001b[0m\u001b[0;34m\u001b[0m\u001b[0m\n\u001b[1;32m     11\u001b[0m              \u001b[0mlifter\u001b[0m\u001b[0;34m=\u001b[0m\u001b[0mlifter\u001b[0m\u001b[0;34m,\u001b[0m\u001b[0;34m\u001b[0m\u001b[0;34m\u001b[0m\u001b[0m\n\u001b[0;32m---> 12\u001b[0;31m              normalize=normalize)\n\u001b[0m\u001b[1;32m     13\u001b[0m \u001b[0;34m\u001b[0m\u001b[0m\n\u001b[1;32m     14\u001b[0m \u001b[0;31m# visualize spectogram\u001b[0m\u001b[0;34m\u001b[0m\u001b[0;34m\u001b[0m\u001b[0;34m\u001b[0m\u001b[0m\n",
      "\u001b[0;32m/opt/conda/lib/python3.7/site-packages/spafe/features/gfcc.py\u001b[0m in \u001b[0;36mgfcc\u001b[0;34m(sig, fs, num_ceps, pre_emph, pre_emph_coeff, win_len, win_hop, win_type, nfilts, nfft, low_freq, high_freq, scale, dct_type, use_energy, lifter, normalize)\u001b[0m\n\u001b[1;32m     88\u001b[0m                                    \u001b[0mfs\u001b[0m\u001b[0;34m=\u001b[0m\u001b[0mfs\u001b[0m\u001b[0;34m,\u001b[0m\u001b[0;34m\u001b[0m\u001b[0;34m\u001b[0m\u001b[0m\n\u001b[1;32m     89\u001b[0m                                    \u001b[0mwin_len\u001b[0m\u001b[0;34m=\u001b[0m\u001b[0mwin_len\u001b[0m\u001b[0;34m,\u001b[0m\u001b[0;34m\u001b[0m\u001b[0;34m\u001b[0m\u001b[0m\n\u001b[0;32m---> 90\u001b[0;31m                                    win_hop=win_hop)\n\u001b[0m\u001b[1;32m     91\u001b[0m \u001b[0;34m\u001b[0m\u001b[0m\n\u001b[1;32m     92\u001b[0m     \u001b[0;31m# -> windowing\u001b[0m\u001b[0;34m\u001b[0m\u001b[0;34m\u001b[0m\u001b[0;34m\u001b[0m\u001b[0m\n",
      "\u001b[0;32m/opt/conda/lib/python3.7/site-packages/spafe/utils/preprocessing.py\u001b[0m in \u001b[0;36mframing\u001b[0;34m(sig, fs, win_len, win_hop)\u001b[0m\n\u001b[1;32m     86\u001b[0m     \u001b[0mframes\u001b[0m \u001b[0;34m=\u001b[0m \u001b[0mstride_trick\u001b[0m\u001b[0;34m(\u001b[0m\u001b[0msig\u001b[0m\u001b[0;34m,\u001b[0m \u001b[0mint\u001b[0m\u001b[0;34m(\u001b[0m\u001b[0mframe_length\u001b[0m\u001b[0;34m)\u001b[0m\u001b[0;34m,\u001b[0m \u001b[0mint\u001b[0m\u001b[0;34m(\u001b[0m\u001b[0mframe_step\u001b[0m\u001b[0;34m)\u001b[0m\u001b[0;34m)\u001b[0m\u001b[0;34m\u001b[0m\u001b[0;34m\u001b[0m\u001b[0m\n\u001b[1;32m     87\u001b[0m     \u001b[0;32mif\u001b[0m \u001b[0mlen\u001b[0m\u001b[0;34m(\u001b[0m\u001b[0mframes\u001b[0m\u001b[0;34m[\u001b[0m\u001b[0;34m-\u001b[0m\u001b[0;36m1\u001b[0m\u001b[0;34m]\u001b[0m\u001b[0;34m)\u001b[0m \u001b[0;34m<\u001b[0m \u001b[0mframe_length\u001b[0m\u001b[0;34m:\u001b[0m\u001b[0;34m\u001b[0m\u001b[0;34m\u001b[0m\u001b[0m\n\u001b[0;32m---> 88\u001b[0;31m         \u001b[0mframes\u001b[0m\u001b[0;34m[\u001b[0m\u001b[0;34m-\u001b[0m\u001b[0;36m1\u001b[0m\u001b[0;34m]\u001b[0m \u001b[0;34m=\u001b[0m \u001b[0mnp\u001b[0m\u001b[0;34m.\u001b[0m\u001b[0mappend\u001b[0m\u001b[0;34m(\u001b[0m\u001b[0mframes\u001b[0m\u001b[0;34m[\u001b[0m\u001b[0;34m-\u001b[0m\u001b[0;36m1\u001b[0m\u001b[0;34m]\u001b[0m\u001b[0;34m,\u001b[0m \u001b[0mnp\u001b[0m\u001b[0;34m.\u001b[0m\u001b[0marray\u001b[0m\u001b[0;34m(\u001b[0m\u001b[0;34m[\u001b[0m\u001b[0;36m0\u001b[0m\u001b[0;34m]\u001b[0m\u001b[0;34m*\u001b[0m\u001b[0;34m(\u001b[0m\u001b[0mframe_length\u001b[0m \u001b[0;34m-\u001b[0m \u001b[0mlen\u001b[0m\u001b[0;34m(\u001b[0m\u001b[0mframes\u001b[0m\u001b[0;34m[\u001b[0m\u001b[0;36m0\u001b[0m\u001b[0;34m]\u001b[0m\u001b[0;34m)\u001b[0m\u001b[0;34m)\u001b[0m\u001b[0;34m)\u001b[0m\u001b[0;34m)\u001b[0m\u001b[0;34m\u001b[0m\u001b[0;34m\u001b[0m\u001b[0m\n\u001b[0m\u001b[1;32m     89\u001b[0m \u001b[0;34m\u001b[0m\u001b[0m\n\u001b[1;32m     90\u001b[0m     \u001b[0;32mreturn\u001b[0m \u001b[0mframes\u001b[0m\u001b[0;34m,\u001b[0m \u001b[0mframe_length\u001b[0m\u001b[0;34m\u001b[0m\u001b[0;34m\u001b[0m\u001b[0m\n",
      "\u001b[0;31mTypeError\u001b[0m: can't multiply sequence by non-int of type 'float'"
     ]
    }
   ],
   "source": [
    "# compute features\n",
    "gfccs = gfcc(sig=x,\n",
    "             fs=sr,\n",
    "             num_ceps=num_ceps,\n",
    "             nfilts=nfilts,\n",
    "             nfft=nfft,\n",
    "             low_freq=low_freq,\n",
    "             high_freq=high_freq,\n",
    "             dct_type=dct_type,\n",
    "             use_energy=use_energy,\n",
    "             lifter=lifter,\n",
    "             normalize=normalize)\n",
    "\n",
    "# visualize spectogram\n",
    "vis.spectogram(sig, fs)\n",
    "# visualize features\n",
    "vis.visualize_features(gfccs, 'GFCC Index', 'Frame Index')"
   ]
  },
  {
   "cell_type": "code",
   "execution_count": null,
   "metadata": {
    "papermill": {
     "duration": 0.016882,
     "end_time": "2020-09-05T03:33:33.466973",
     "exception": false,
     "start_time": "2020-09-05T03:33:33.450091",
     "status": "completed"
    },
    "tags": []
   },
   "outputs": [],
   "source": []
  }
 ],
 "metadata": {
  "kernelspec": {
   "display_name": "Python 3",
   "language": "python",
   "name": "python3"
  },
  "language_info": {
   "codemirror_mode": {
    "name": "ipython",
    "version": 3
   },
   "file_extension": ".py",
   "mimetype": "text/x-python",
   "name": "python",
   "nbconvert_exporter": "python",
   "pygments_lexer": "ipython3",
   "version": "3.7.6"
  },
  "papermill": {
   "duration": 30.481431,
   "end_time": "2020-09-05T03:33:33.593066",
   "environment_variables": {},
   "exception": null,
   "input_path": "__notebook__.ipynb",
   "output_path": "__notebook__.ipynb",
   "parameters": {},
   "start_time": "2020-09-05T03:33:03.111635",
   "version": "2.1.0"
  }
 },
 "nbformat": 4,
 "nbformat_minor": 4
}
